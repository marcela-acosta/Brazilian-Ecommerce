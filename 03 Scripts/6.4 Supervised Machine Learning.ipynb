{
 "cells": [
  {
   "cell_type": "markdown",
   "id": "0b9ac10b",
   "metadata": {},
   "source": [
    "# 1. Import data and libraries"
   ]
  },
  {
   "cell_type": "code",
   "execution_count": 90,
   "id": "3ccc1dd3",
   "metadata": {},
   "outputs": [],
   "source": [
    "import pandas as pd\n",
    "import numpy as np\n",
    "import seaborn as sns\n",
    "import matplotlib\n",
    "import matplotlib.pyplot as plt\n",
    "import os\n",
    "import sklearn\n",
    "from sklearn.model_selection import train_test_split \n",
    "from sklearn.linear_model import LinearRegression\n",
    "from sklearn.metrics import mean_squared_error, r2_score"
   ]
  },
  {
   "cell_type": "code",
   "execution_count": 1,
   "id": "00e7bc21",
   "metadata": {},
   "outputs": [],
   "source": [
    "%matplotlib inline"
   ]
  },
  {
   "cell_type": "code",
   "execution_count": 92,
   "id": "a355c7f7",
   "metadata": {},
   "outputs": [],
   "source": [
    "path = r'/Users/marcela/Desktop/CF/Data Immersion/Achievement 6/Brazilian Ecommerce Analysis'"
   ]
  },
  {
   "cell_type": "code",
   "execution_count": 93,
   "id": "549fbcb9",
   "metadata": {},
   "outputs": [],
   "source": [
    "df = pd.read_pickle(os.path.join(path, '02 Data', 'Prepared Data', 'ecommerce_merge.pkl'))"
   ]
  },
  {
   "cell_type": "markdown",
   "id": "77f65dc5",
   "metadata": {},
   "source": [
    "# 2. Data Cleaning"
   ]
  },
  {
   "cell_type": "code",
   "execution_count": 94,
   "id": "348c9bab",
   "metadata": {},
   "outputs": [
    {
     "data": {
      "text/plain": [
       "Index(['order_id', 'customer_id', 'order_status', 'order_purchase_timestamp',\n",
       "       'order_approved_at', 'order_delivered_carrier_date',\n",
       "       'order_delivered_customer_date', 'order_estimated_delivery_date',\n",
       "       'order_item_id', 'product_id', 'seller_id', 'shipping_limit_date',\n",
       "       'price', 'freight_value', 'customer_unique_id',\n",
       "       'customer_zip_code_prefix', 'customer_city', 'customer_state',\n",
       "       'geolocation_zip_code_prefix', 'geolocation_lat', 'geolocation_lng',\n",
       "       'geolocation_city', 'geolocation_state', 'seller_zip_code_prefix',\n",
       "       'seller_city', 'seller_state', 'payment_sequential', 'payment_type',\n",
       "       'payment_installments', 'payment_value', 'product_category_name',\n",
       "       'product_name_lenght', 'product_description_lenght',\n",
       "       'product_photos_qty', 'product_weight_g', 'product_length_cm',\n",
       "       'product_height_cm', 'product_width_cm',\n",
       "       'product_category_name_english'],\n",
       "      dtype='object')"
      ]
     },
     "execution_count": 94,
     "metadata": {},
     "output_type": "execute_result"
    }
   ],
   "source": [
    "df.columns"
   ]
  },
  {
   "cell_type": "code",
   "execution_count": 95,
   "id": "dcb0a4d9",
   "metadata": {},
   "outputs": [
    {
     "data": {
      "text/html": [
       "<div>\n",
       "<style scoped>\n",
       "    .dataframe tbody tr th:only-of-type {\n",
       "        vertical-align: middle;\n",
       "    }\n",
       "\n",
       "    .dataframe tbody tr th {\n",
       "        vertical-align: top;\n",
       "    }\n",
       "\n",
       "    .dataframe thead th {\n",
       "        text-align: right;\n",
       "    }\n",
       "</style>\n",
       "<table border=\"1\" class=\"dataframe\">\n",
       "  <thead>\n",
       "    <tr style=\"text-align: right;\">\n",
       "      <th></th>\n",
       "      <th>order_id</th>\n",
       "      <th>customer_id</th>\n",
       "      <th>order_status</th>\n",
       "      <th>order_purchase_timestamp</th>\n",
       "      <th>order_approved_at</th>\n",
       "      <th>order_delivered_carrier_date</th>\n",
       "      <th>order_delivered_customer_date</th>\n",
       "      <th>order_estimated_delivery_date</th>\n",
       "      <th>order_item_id</th>\n",
       "      <th>product_id</th>\n",
       "      <th>...</th>\n",
       "      <th>payment_value</th>\n",
       "      <th>product_category_name</th>\n",
       "      <th>product_name_lenght</th>\n",
       "      <th>product_description_lenght</th>\n",
       "      <th>product_photos_qty</th>\n",
       "      <th>product_weight_g</th>\n",
       "      <th>product_length_cm</th>\n",
       "      <th>product_height_cm</th>\n",
       "      <th>product_width_cm</th>\n",
       "      <th>product_category_name_english</th>\n",
       "    </tr>\n",
       "  </thead>\n",
       "  <tbody>\n",
       "    <tr>\n",
       "      <th>0</th>\n",
       "      <td>e481f51cbdc54678b7cc49136f2d6af7</td>\n",
       "      <td>9ef432eb6251297304e76186b10a928d</td>\n",
       "      <td>delivered</td>\n",
       "      <td>2017-10-02 10:56:33</td>\n",
       "      <td>2017-10-02 11:07:15</td>\n",
       "      <td>2017-10-04 19:55:00</td>\n",
       "      <td>2017-10-10 21:25:13</td>\n",
       "      <td>2017-10-18 00:00:00</td>\n",
       "      <td>1.0</td>\n",
       "      <td>87285b34884572647811a353c7ac498a</td>\n",
       "      <td>...</td>\n",
       "      <td>18.12</td>\n",
       "      <td>utilidades_domesticas</td>\n",
       "      <td>40.0</td>\n",
       "      <td>268.0</td>\n",
       "      <td>4.0</td>\n",
       "      <td>500.0</td>\n",
       "      <td>19.0</td>\n",
       "      <td>8.0</td>\n",
       "      <td>13.0</td>\n",
       "      <td>housewares</td>\n",
       "    </tr>\n",
       "    <tr>\n",
       "      <th>1</th>\n",
       "      <td>e481f51cbdc54678b7cc49136f2d6af7</td>\n",
       "      <td>9ef432eb6251297304e76186b10a928d</td>\n",
       "      <td>delivered</td>\n",
       "      <td>2017-10-02 10:56:33</td>\n",
       "      <td>2017-10-02 11:07:15</td>\n",
       "      <td>2017-10-04 19:55:00</td>\n",
       "      <td>2017-10-10 21:25:13</td>\n",
       "      <td>2017-10-18 00:00:00</td>\n",
       "      <td>1.0</td>\n",
       "      <td>87285b34884572647811a353c7ac498a</td>\n",
       "      <td>...</td>\n",
       "      <td>2.00</td>\n",
       "      <td>utilidades_domesticas</td>\n",
       "      <td>40.0</td>\n",
       "      <td>268.0</td>\n",
       "      <td>4.0</td>\n",
       "      <td>500.0</td>\n",
       "      <td>19.0</td>\n",
       "      <td>8.0</td>\n",
       "      <td>13.0</td>\n",
       "      <td>housewares</td>\n",
       "    </tr>\n",
       "    <tr>\n",
       "      <th>2</th>\n",
       "      <td>e481f51cbdc54678b7cc49136f2d6af7</td>\n",
       "      <td>9ef432eb6251297304e76186b10a928d</td>\n",
       "      <td>delivered</td>\n",
       "      <td>2017-10-02 10:56:33</td>\n",
       "      <td>2017-10-02 11:07:15</td>\n",
       "      <td>2017-10-04 19:55:00</td>\n",
       "      <td>2017-10-10 21:25:13</td>\n",
       "      <td>2017-10-18 00:00:00</td>\n",
       "      <td>1.0</td>\n",
       "      <td>87285b34884572647811a353c7ac498a</td>\n",
       "      <td>...</td>\n",
       "      <td>18.59</td>\n",
       "      <td>utilidades_domesticas</td>\n",
       "      <td>40.0</td>\n",
       "      <td>268.0</td>\n",
       "      <td>4.0</td>\n",
       "      <td>500.0</td>\n",
       "      <td>19.0</td>\n",
       "      <td>8.0</td>\n",
       "      <td>13.0</td>\n",
       "      <td>housewares</td>\n",
       "    </tr>\n",
       "    <tr>\n",
       "      <th>3</th>\n",
       "      <td>e481f51cbdc54678b7cc49136f2d6af7</td>\n",
       "      <td>9ef432eb6251297304e76186b10a928d</td>\n",
       "      <td>delivered</td>\n",
       "      <td>2017-10-02 10:56:33</td>\n",
       "      <td>2017-10-02 11:07:15</td>\n",
       "      <td>2017-10-04 19:55:00</td>\n",
       "      <td>2017-10-10 21:25:13</td>\n",
       "      <td>2017-10-18 00:00:00</td>\n",
       "      <td>1.0</td>\n",
       "      <td>87285b34884572647811a353c7ac498a</td>\n",
       "      <td>...</td>\n",
       "      <td>18.12</td>\n",
       "      <td>utilidades_domesticas</td>\n",
       "      <td>40.0</td>\n",
       "      <td>268.0</td>\n",
       "      <td>4.0</td>\n",
       "      <td>500.0</td>\n",
       "      <td>19.0</td>\n",
       "      <td>8.0</td>\n",
       "      <td>13.0</td>\n",
       "      <td>housewares</td>\n",
       "    </tr>\n",
       "    <tr>\n",
       "      <th>4</th>\n",
       "      <td>e481f51cbdc54678b7cc49136f2d6af7</td>\n",
       "      <td>9ef432eb6251297304e76186b10a928d</td>\n",
       "      <td>delivered</td>\n",
       "      <td>2017-10-02 10:56:33</td>\n",
       "      <td>2017-10-02 11:07:15</td>\n",
       "      <td>2017-10-04 19:55:00</td>\n",
       "      <td>2017-10-10 21:25:13</td>\n",
       "      <td>2017-10-18 00:00:00</td>\n",
       "      <td>1.0</td>\n",
       "      <td>87285b34884572647811a353c7ac498a</td>\n",
       "      <td>...</td>\n",
       "      <td>2.00</td>\n",
       "      <td>utilidades_domesticas</td>\n",
       "      <td>40.0</td>\n",
       "      <td>268.0</td>\n",
       "      <td>4.0</td>\n",
       "      <td>500.0</td>\n",
       "      <td>19.0</td>\n",
       "      <td>8.0</td>\n",
       "      <td>13.0</td>\n",
       "      <td>housewares</td>\n",
       "    </tr>\n",
       "  </tbody>\n",
       "</table>\n",
       "<p>5 rows × 39 columns</p>\n",
       "</div>"
      ],
      "text/plain": [
       "                           order_id                       customer_id  \\\n",
       "0  e481f51cbdc54678b7cc49136f2d6af7  9ef432eb6251297304e76186b10a928d   \n",
       "1  e481f51cbdc54678b7cc49136f2d6af7  9ef432eb6251297304e76186b10a928d   \n",
       "2  e481f51cbdc54678b7cc49136f2d6af7  9ef432eb6251297304e76186b10a928d   \n",
       "3  e481f51cbdc54678b7cc49136f2d6af7  9ef432eb6251297304e76186b10a928d   \n",
       "4  e481f51cbdc54678b7cc49136f2d6af7  9ef432eb6251297304e76186b10a928d   \n",
       "\n",
       "  order_status order_purchase_timestamp    order_approved_at  \\\n",
       "0    delivered      2017-10-02 10:56:33  2017-10-02 11:07:15   \n",
       "1    delivered      2017-10-02 10:56:33  2017-10-02 11:07:15   \n",
       "2    delivered      2017-10-02 10:56:33  2017-10-02 11:07:15   \n",
       "3    delivered      2017-10-02 10:56:33  2017-10-02 11:07:15   \n",
       "4    delivered      2017-10-02 10:56:33  2017-10-02 11:07:15   \n",
       "\n",
       "  order_delivered_carrier_date order_delivered_customer_date  \\\n",
       "0          2017-10-04 19:55:00           2017-10-10 21:25:13   \n",
       "1          2017-10-04 19:55:00           2017-10-10 21:25:13   \n",
       "2          2017-10-04 19:55:00           2017-10-10 21:25:13   \n",
       "3          2017-10-04 19:55:00           2017-10-10 21:25:13   \n",
       "4          2017-10-04 19:55:00           2017-10-10 21:25:13   \n",
       "\n",
       "  order_estimated_delivery_date  order_item_id  \\\n",
       "0           2017-10-18 00:00:00            1.0   \n",
       "1           2017-10-18 00:00:00            1.0   \n",
       "2           2017-10-18 00:00:00            1.0   \n",
       "3           2017-10-18 00:00:00            1.0   \n",
       "4           2017-10-18 00:00:00            1.0   \n",
       "\n",
       "                         product_id  ... payment_value  product_category_name  \\\n",
       "0  87285b34884572647811a353c7ac498a  ...         18.12  utilidades_domesticas   \n",
       "1  87285b34884572647811a353c7ac498a  ...          2.00  utilidades_domesticas   \n",
       "2  87285b34884572647811a353c7ac498a  ...         18.59  utilidades_domesticas   \n",
       "3  87285b34884572647811a353c7ac498a  ...         18.12  utilidades_domesticas   \n",
       "4  87285b34884572647811a353c7ac498a  ...          2.00  utilidades_domesticas   \n",
       "\n",
       "   product_name_lenght  product_description_lenght product_photos_qty  \\\n",
       "0                 40.0                       268.0                4.0   \n",
       "1                 40.0                       268.0                4.0   \n",
       "2                 40.0                       268.0                4.0   \n",
       "3                 40.0                       268.0                4.0   \n",
       "4                 40.0                       268.0                4.0   \n",
       "\n",
       "   product_weight_g product_length_cm product_height_cm  product_width_cm  \\\n",
       "0             500.0              19.0               8.0              13.0   \n",
       "1             500.0              19.0               8.0              13.0   \n",
       "2             500.0              19.0               8.0              13.0   \n",
       "3             500.0              19.0               8.0              13.0   \n",
       "4             500.0              19.0               8.0              13.0   \n",
       "\n",
       "   product_category_name_english  \n",
       "0                     housewares  \n",
       "1                     housewares  \n",
       "2                     housewares  \n",
       "3                     housewares  \n",
       "4                     housewares  \n",
       "\n",
       "[5 rows x 39 columns]"
      ]
     },
     "execution_count": 95,
     "metadata": {},
     "output_type": "execute_result"
    }
   ],
   "source": [
    "df.head()"
   ]
  },
  {
   "cell_type": "code",
   "execution_count": 96,
   "id": "036a1368",
   "metadata": {},
   "outputs": [
    {
     "data": {
      "text/plain": [
       "(18079641, 39)"
      ]
     },
     "execution_count": 96,
     "metadata": {},
     "output_type": "execute_result"
    }
   ],
   "source": [
    "df.shape"
   ]
  },
  {
   "cell_type": "code",
   "execution_count": 97,
   "id": "8ba56672",
   "metadata": {},
   "outputs": [
    {
     "name": "stdout",
     "output_type": "stream",
     "text": [
      "5704849\n"
     ]
    }
   ],
   "source": [
    "# Duplicates\n",
    "print(df.duplicated().sum())"
   ]
  },
  {
   "cell_type": "code",
   "execution_count": 98,
   "id": "85d8b75b",
   "metadata": {},
   "outputs": [
    {
     "data": {
      "text/html": [
       "<div>\n",
       "<style scoped>\n",
       "    .dataframe tbody tr th:only-of-type {\n",
       "        vertical-align: middle;\n",
       "    }\n",
       "\n",
       "    .dataframe tbody tr th {\n",
       "        vertical-align: top;\n",
       "    }\n",
       "\n",
       "    .dataframe thead th {\n",
       "        text-align: right;\n",
       "    }\n",
       "</style>\n",
       "<table border=\"1\" class=\"dataframe\">\n",
       "  <thead>\n",
       "    <tr style=\"text-align: right;\">\n",
       "      <th></th>\n",
       "      <th>order_id</th>\n",
       "      <th>customer_id</th>\n",
       "      <th>order_status</th>\n",
       "      <th>order_purchase_timestamp</th>\n",
       "      <th>order_approved_at</th>\n",
       "      <th>order_delivered_carrier_date</th>\n",
       "      <th>order_delivered_customer_date</th>\n",
       "      <th>order_estimated_delivery_date</th>\n",
       "      <th>order_item_id</th>\n",
       "      <th>product_id</th>\n",
       "      <th>...</th>\n",
       "      <th>payment_value</th>\n",
       "      <th>product_category_name</th>\n",
       "      <th>product_name_lenght</th>\n",
       "      <th>product_description_lenght</th>\n",
       "      <th>product_photos_qty</th>\n",
       "      <th>product_weight_g</th>\n",
       "      <th>product_length_cm</th>\n",
       "      <th>product_height_cm</th>\n",
       "      <th>product_width_cm</th>\n",
       "      <th>product_category_name_english</th>\n",
       "    </tr>\n",
       "  </thead>\n",
       "  <tbody>\n",
       "    <tr>\n",
       "      <th>0</th>\n",
       "      <td>e481f51cbdc54678b7cc49136f2d6af7</td>\n",
       "      <td>9ef432eb6251297304e76186b10a928d</td>\n",
       "      <td>delivered</td>\n",
       "      <td>2017-10-02 10:56:33</td>\n",
       "      <td>2017-10-02 11:07:15</td>\n",
       "      <td>2017-10-04 19:55:00</td>\n",
       "      <td>2017-10-10 21:25:13</td>\n",
       "      <td>2017-10-18 00:00:00</td>\n",
       "      <td>1.0</td>\n",
       "      <td>87285b34884572647811a353c7ac498a</td>\n",
       "      <td>...</td>\n",
       "      <td>18.12</td>\n",
       "      <td>utilidades_domesticas</td>\n",
       "      <td>40.0</td>\n",
       "      <td>268.0</td>\n",
       "      <td>4.0</td>\n",
       "      <td>500.0</td>\n",
       "      <td>19.0</td>\n",
       "      <td>8.0</td>\n",
       "      <td>13.0</td>\n",
       "      <td>housewares</td>\n",
       "    </tr>\n",
       "    <tr>\n",
       "      <th>1</th>\n",
       "      <td>e481f51cbdc54678b7cc49136f2d6af7</td>\n",
       "      <td>9ef432eb6251297304e76186b10a928d</td>\n",
       "      <td>delivered</td>\n",
       "      <td>2017-10-02 10:56:33</td>\n",
       "      <td>2017-10-02 11:07:15</td>\n",
       "      <td>2017-10-04 19:55:00</td>\n",
       "      <td>2017-10-10 21:25:13</td>\n",
       "      <td>2017-10-18 00:00:00</td>\n",
       "      <td>1.0</td>\n",
       "      <td>87285b34884572647811a353c7ac498a</td>\n",
       "      <td>...</td>\n",
       "      <td>2.00</td>\n",
       "      <td>utilidades_domesticas</td>\n",
       "      <td>40.0</td>\n",
       "      <td>268.0</td>\n",
       "      <td>4.0</td>\n",
       "      <td>500.0</td>\n",
       "      <td>19.0</td>\n",
       "      <td>8.0</td>\n",
       "      <td>13.0</td>\n",
       "      <td>housewares</td>\n",
       "    </tr>\n",
       "    <tr>\n",
       "      <th>2</th>\n",
       "      <td>e481f51cbdc54678b7cc49136f2d6af7</td>\n",
       "      <td>9ef432eb6251297304e76186b10a928d</td>\n",
       "      <td>delivered</td>\n",
       "      <td>2017-10-02 10:56:33</td>\n",
       "      <td>2017-10-02 11:07:15</td>\n",
       "      <td>2017-10-04 19:55:00</td>\n",
       "      <td>2017-10-10 21:25:13</td>\n",
       "      <td>2017-10-18 00:00:00</td>\n",
       "      <td>1.0</td>\n",
       "      <td>87285b34884572647811a353c7ac498a</td>\n",
       "      <td>...</td>\n",
       "      <td>18.59</td>\n",
       "      <td>utilidades_domesticas</td>\n",
       "      <td>40.0</td>\n",
       "      <td>268.0</td>\n",
       "      <td>4.0</td>\n",
       "      <td>500.0</td>\n",
       "      <td>19.0</td>\n",
       "      <td>8.0</td>\n",
       "      <td>13.0</td>\n",
       "      <td>housewares</td>\n",
       "    </tr>\n",
       "    <tr>\n",
       "      <th>3</th>\n",
       "      <td>e481f51cbdc54678b7cc49136f2d6af7</td>\n",
       "      <td>9ef432eb6251297304e76186b10a928d</td>\n",
       "      <td>delivered</td>\n",
       "      <td>2017-10-02 10:56:33</td>\n",
       "      <td>2017-10-02 11:07:15</td>\n",
       "      <td>2017-10-04 19:55:00</td>\n",
       "      <td>2017-10-10 21:25:13</td>\n",
       "      <td>2017-10-18 00:00:00</td>\n",
       "      <td>1.0</td>\n",
       "      <td>87285b34884572647811a353c7ac498a</td>\n",
       "      <td>...</td>\n",
       "      <td>18.12</td>\n",
       "      <td>utilidades_domesticas</td>\n",
       "      <td>40.0</td>\n",
       "      <td>268.0</td>\n",
       "      <td>4.0</td>\n",
       "      <td>500.0</td>\n",
       "      <td>19.0</td>\n",
       "      <td>8.0</td>\n",
       "      <td>13.0</td>\n",
       "      <td>housewares</td>\n",
       "    </tr>\n",
       "    <tr>\n",
       "      <th>4</th>\n",
       "      <td>e481f51cbdc54678b7cc49136f2d6af7</td>\n",
       "      <td>9ef432eb6251297304e76186b10a928d</td>\n",
       "      <td>delivered</td>\n",
       "      <td>2017-10-02 10:56:33</td>\n",
       "      <td>2017-10-02 11:07:15</td>\n",
       "      <td>2017-10-04 19:55:00</td>\n",
       "      <td>2017-10-10 21:25:13</td>\n",
       "      <td>2017-10-18 00:00:00</td>\n",
       "      <td>1.0</td>\n",
       "      <td>87285b34884572647811a353c7ac498a</td>\n",
       "      <td>...</td>\n",
       "      <td>2.00</td>\n",
       "      <td>utilidades_domesticas</td>\n",
       "      <td>40.0</td>\n",
       "      <td>268.0</td>\n",
       "      <td>4.0</td>\n",
       "      <td>500.0</td>\n",
       "      <td>19.0</td>\n",
       "      <td>8.0</td>\n",
       "      <td>13.0</td>\n",
       "      <td>housewares</td>\n",
       "    </tr>\n",
       "    <tr>\n",
       "      <th>...</th>\n",
       "      <td>...</td>\n",
       "      <td>...</td>\n",
       "      <td>...</td>\n",
       "      <td>...</td>\n",
       "      <td>...</td>\n",
       "      <td>...</td>\n",
       "      <td>...</td>\n",
       "      <td>...</td>\n",
       "      <td>...</td>\n",
       "      <td>...</td>\n",
       "      <td>...</td>\n",
       "      <td>...</td>\n",
       "      <td>...</td>\n",
       "      <td>...</td>\n",
       "      <td>...</td>\n",
       "      <td>...</td>\n",
       "      <td>...</td>\n",
       "      <td>...</td>\n",
       "      <td>...</td>\n",
       "      <td>...</td>\n",
       "      <td>...</td>\n",
       "    </tr>\n",
       "    <tr>\n",
       "      <th>18079635</th>\n",
       "      <td>66dea50a8b16d9b4dee7af250b4be1a5</td>\n",
       "      <td>edb027a75a1449115f6b43211ae02a24</td>\n",
       "      <td>delivered</td>\n",
       "      <td>2018-03-08 20:57:30</td>\n",
       "      <td>2018-03-09 11:20:28</td>\n",
       "      <td>2018-03-09 22:11:59</td>\n",
       "      <td>2018-03-16 13:08:30</td>\n",
       "      <td>2018-04-03 00:00:00</td>\n",
       "      <td>1.0</td>\n",
       "      <td>006619bbed68b000c8ba3f8725d5409e</td>\n",
       "      <td>...</td>\n",
       "      <td>86.86</td>\n",
       "      <td>beleza_saude</td>\n",
       "      <td>45.0</td>\n",
       "      <td>569.0</td>\n",
       "      <td>1.0</td>\n",
       "      <td>150.0</td>\n",
       "      <td>16.0</td>\n",
       "      <td>7.0</td>\n",
       "      <td>15.0</td>\n",
       "      <td>health_beauty</td>\n",
       "    </tr>\n",
       "    <tr>\n",
       "      <th>18079636</th>\n",
       "      <td>66dea50a8b16d9b4dee7af250b4be1a5</td>\n",
       "      <td>edb027a75a1449115f6b43211ae02a24</td>\n",
       "      <td>delivered</td>\n",
       "      <td>2018-03-08 20:57:30</td>\n",
       "      <td>2018-03-09 11:20:28</td>\n",
       "      <td>2018-03-09 22:11:59</td>\n",
       "      <td>2018-03-16 13:08:30</td>\n",
       "      <td>2018-04-03 00:00:00</td>\n",
       "      <td>1.0</td>\n",
       "      <td>006619bbed68b000c8ba3f8725d5409e</td>\n",
       "      <td>...</td>\n",
       "      <td>86.86</td>\n",
       "      <td>beleza_saude</td>\n",
       "      <td>45.0</td>\n",
       "      <td>569.0</td>\n",
       "      <td>1.0</td>\n",
       "      <td>150.0</td>\n",
       "      <td>16.0</td>\n",
       "      <td>7.0</td>\n",
       "      <td>15.0</td>\n",
       "      <td>health_beauty</td>\n",
       "    </tr>\n",
       "    <tr>\n",
       "      <th>18079637</th>\n",
       "      <td>66dea50a8b16d9b4dee7af250b4be1a5</td>\n",
       "      <td>edb027a75a1449115f6b43211ae02a24</td>\n",
       "      <td>delivered</td>\n",
       "      <td>2018-03-08 20:57:30</td>\n",
       "      <td>2018-03-09 11:20:28</td>\n",
       "      <td>2018-03-09 22:11:59</td>\n",
       "      <td>2018-03-16 13:08:30</td>\n",
       "      <td>2018-04-03 00:00:00</td>\n",
       "      <td>1.0</td>\n",
       "      <td>006619bbed68b000c8ba3f8725d5409e</td>\n",
       "      <td>...</td>\n",
       "      <td>86.86</td>\n",
       "      <td>beleza_saude</td>\n",
       "      <td>45.0</td>\n",
       "      <td>569.0</td>\n",
       "      <td>1.0</td>\n",
       "      <td>150.0</td>\n",
       "      <td>16.0</td>\n",
       "      <td>7.0</td>\n",
       "      <td>15.0</td>\n",
       "      <td>health_beauty</td>\n",
       "    </tr>\n",
       "    <tr>\n",
       "      <th>18079639</th>\n",
       "      <td>66dea50a8b16d9b4dee7af250b4be1a5</td>\n",
       "      <td>edb027a75a1449115f6b43211ae02a24</td>\n",
       "      <td>delivered</td>\n",
       "      <td>2018-03-08 20:57:30</td>\n",
       "      <td>2018-03-09 11:20:28</td>\n",
       "      <td>2018-03-09 22:11:59</td>\n",
       "      <td>2018-03-16 13:08:30</td>\n",
       "      <td>2018-04-03 00:00:00</td>\n",
       "      <td>1.0</td>\n",
       "      <td>006619bbed68b000c8ba3f8725d5409e</td>\n",
       "      <td>...</td>\n",
       "      <td>86.86</td>\n",
       "      <td>beleza_saude</td>\n",
       "      <td>45.0</td>\n",
       "      <td>569.0</td>\n",
       "      <td>1.0</td>\n",
       "      <td>150.0</td>\n",
       "      <td>16.0</td>\n",
       "      <td>7.0</td>\n",
       "      <td>15.0</td>\n",
       "      <td>health_beauty</td>\n",
       "    </tr>\n",
       "    <tr>\n",
       "      <th>18079640</th>\n",
       "      <td>66dea50a8b16d9b4dee7af250b4be1a5</td>\n",
       "      <td>edb027a75a1449115f6b43211ae02a24</td>\n",
       "      <td>delivered</td>\n",
       "      <td>2018-03-08 20:57:30</td>\n",
       "      <td>2018-03-09 11:20:28</td>\n",
       "      <td>2018-03-09 22:11:59</td>\n",
       "      <td>2018-03-16 13:08:30</td>\n",
       "      <td>2018-04-03 00:00:00</td>\n",
       "      <td>1.0</td>\n",
       "      <td>006619bbed68b000c8ba3f8725d5409e</td>\n",
       "      <td>...</td>\n",
       "      <td>86.86</td>\n",
       "      <td>beleza_saude</td>\n",
       "      <td>45.0</td>\n",
       "      <td>569.0</td>\n",
       "      <td>1.0</td>\n",
       "      <td>150.0</td>\n",
       "      <td>16.0</td>\n",
       "      <td>7.0</td>\n",
       "      <td>15.0</td>\n",
       "      <td>health_beauty</td>\n",
       "    </tr>\n",
       "  </tbody>\n",
       "</table>\n",
       "<p>12374792 rows × 39 columns</p>\n",
       "</div>"
      ],
      "text/plain": [
       "                                  order_id                       customer_id  \\\n",
       "0         e481f51cbdc54678b7cc49136f2d6af7  9ef432eb6251297304e76186b10a928d   \n",
       "1         e481f51cbdc54678b7cc49136f2d6af7  9ef432eb6251297304e76186b10a928d   \n",
       "2         e481f51cbdc54678b7cc49136f2d6af7  9ef432eb6251297304e76186b10a928d   \n",
       "3         e481f51cbdc54678b7cc49136f2d6af7  9ef432eb6251297304e76186b10a928d   \n",
       "4         e481f51cbdc54678b7cc49136f2d6af7  9ef432eb6251297304e76186b10a928d   \n",
       "...                                    ...                               ...   \n",
       "18079635  66dea50a8b16d9b4dee7af250b4be1a5  edb027a75a1449115f6b43211ae02a24   \n",
       "18079636  66dea50a8b16d9b4dee7af250b4be1a5  edb027a75a1449115f6b43211ae02a24   \n",
       "18079637  66dea50a8b16d9b4dee7af250b4be1a5  edb027a75a1449115f6b43211ae02a24   \n",
       "18079639  66dea50a8b16d9b4dee7af250b4be1a5  edb027a75a1449115f6b43211ae02a24   \n",
       "18079640  66dea50a8b16d9b4dee7af250b4be1a5  edb027a75a1449115f6b43211ae02a24   \n",
       "\n",
       "         order_status order_purchase_timestamp    order_approved_at  \\\n",
       "0           delivered      2017-10-02 10:56:33  2017-10-02 11:07:15   \n",
       "1           delivered      2017-10-02 10:56:33  2017-10-02 11:07:15   \n",
       "2           delivered      2017-10-02 10:56:33  2017-10-02 11:07:15   \n",
       "3           delivered      2017-10-02 10:56:33  2017-10-02 11:07:15   \n",
       "4           delivered      2017-10-02 10:56:33  2017-10-02 11:07:15   \n",
       "...               ...                      ...                  ...   \n",
       "18079635    delivered      2018-03-08 20:57:30  2018-03-09 11:20:28   \n",
       "18079636    delivered      2018-03-08 20:57:30  2018-03-09 11:20:28   \n",
       "18079637    delivered      2018-03-08 20:57:30  2018-03-09 11:20:28   \n",
       "18079639    delivered      2018-03-08 20:57:30  2018-03-09 11:20:28   \n",
       "18079640    delivered      2018-03-08 20:57:30  2018-03-09 11:20:28   \n",
       "\n",
       "         order_delivered_carrier_date order_delivered_customer_date  \\\n",
       "0                 2017-10-04 19:55:00           2017-10-10 21:25:13   \n",
       "1                 2017-10-04 19:55:00           2017-10-10 21:25:13   \n",
       "2                 2017-10-04 19:55:00           2017-10-10 21:25:13   \n",
       "3                 2017-10-04 19:55:00           2017-10-10 21:25:13   \n",
       "4                 2017-10-04 19:55:00           2017-10-10 21:25:13   \n",
       "...                               ...                           ...   \n",
       "18079635          2018-03-09 22:11:59           2018-03-16 13:08:30   \n",
       "18079636          2018-03-09 22:11:59           2018-03-16 13:08:30   \n",
       "18079637          2018-03-09 22:11:59           2018-03-16 13:08:30   \n",
       "18079639          2018-03-09 22:11:59           2018-03-16 13:08:30   \n",
       "18079640          2018-03-09 22:11:59           2018-03-16 13:08:30   \n",
       "\n",
       "         order_estimated_delivery_date  order_item_id  \\\n",
       "0                  2017-10-18 00:00:00            1.0   \n",
       "1                  2017-10-18 00:00:00            1.0   \n",
       "2                  2017-10-18 00:00:00            1.0   \n",
       "3                  2017-10-18 00:00:00            1.0   \n",
       "4                  2017-10-18 00:00:00            1.0   \n",
       "...                                ...            ...   \n",
       "18079635           2018-04-03 00:00:00            1.0   \n",
       "18079636           2018-04-03 00:00:00            1.0   \n",
       "18079637           2018-04-03 00:00:00            1.0   \n",
       "18079639           2018-04-03 00:00:00            1.0   \n",
       "18079640           2018-04-03 00:00:00            1.0   \n",
       "\n",
       "                                product_id  ... payment_value  \\\n",
       "0         87285b34884572647811a353c7ac498a  ...         18.12   \n",
       "1         87285b34884572647811a353c7ac498a  ...          2.00   \n",
       "2         87285b34884572647811a353c7ac498a  ...         18.59   \n",
       "3         87285b34884572647811a353c7ac498a  ...         18.12   \n",
       "4         87285b34884572647811a353c7ac498a  ...          2.00   \n",
       "...                                    ...  ...           ...   \n",
       "18079635  006619bbed68b000c8ba3f8725d5409e  ...         86.86   \n",
       "18079636  006619bbed68b000c8ba3f8725d5409e  ...         86.86   \n",
       "18079637  006619bbed68b000c8ba3f8725d5409e  ...         86.86   \n",
       "18079639  006619bbed68b000c8ba3f8725d5409e  ...         86.86   \n",
       "18079640  006619bbed68b000c8ba3f8725d5409e  ...         86.86   \n",
       "\n",
       "          product_category_name  product_name_lenght  \\\n",
       "0         utilidades_domesticas                 40.0   \n",
       "1         utilidades_domesticas                 40.0   \n",
       "2         utilidades_domesticas                 40.0   \n",
       "3         utilidades_domesticas                 40.0   \n",
       "4         utilidades_domesticas                 40.0   \n",
       "...                         ...                  ...   \n",
       "18079635           beleza_saude                 45.0   \n",
       "18079636           beleza_saude                 45.0   \n",
       "18079637           beleza_saude                 45.0   \n",
       "18079639           beleza_saude                 45.0   \n",
       "18079640           beleza_saude                 45.0   \n",
       "\n",
       "          product_description_lenght product_photos_qty  product_weight_g  \\\n",
       "0                              268.0                4.0             500.0   \n",
       "1                              268.0                4.0             500.0   \n",
       "2                              268.0                4.0             500.0   \n",
       "3                              268.0                4.0             500.0   \n",
       "4                              268.0                4.0             500.0   \n",
       "...                              ...                ...               ...   \n",
       "18079635                       569.0                1.0             150.0   \n",
       "18079636                       569.0                1.0             150.0   \n",
       "18079637                       569.0                1.0             150.0   \n",
       "18079639                       569.0                1.0             150.0   \n",
       "18079640                       569.0                1.0             150.0   \n",
       "\n",
       "         product_length_cm product_height_cm  product_width_cm  \\\n",
       "0                     19.0               8.0              13.0   \n",
       "1                     19.0               8.0              13.0   \n",
       "2                     19.0               8.0              13.0   \n",
       "3                     19.0               8.0              13.0   \n",
       "4                     19.0               8.0              13.0   \n",
       "...                    ...               ...               ...   \n",
       "18079635              16.0               7.0              15.0   \n",
       "18079636              16.0               7.0              15.0   \n",
       "18079637              16.0               7.0              15.0   \n",
       "18079639              16.0               7.0              15.0   \n",
       "18079640              16.0               7.0              15.0   \n",
       "\n",
       "          product_category_name_english  \n",
       "0                            housewares  \n",
       "1                            housewares  \n",
       "2                            housewares  \n",
       "3                            housewares  \n",
       "4                            housewares  \n",
       "...                                 ...  \n",
       "18079635                  health_beauty  \n",
       "18079636                  health_beauty  \n",
       "18079637                  health_beauty  \n",
       "18079639                  health_beauty  \n",
       "18079640                  health_beauty  \n",
       "\n",
       "[12374792 rows x 39 columns]"
      ]
     },
     "execution_count": 98,
     "metadata": {},
     "output_type": "execute_result"
    }
   ],
   "source": [
    "# Drop duplicates\n",
    "df.drop_duplicates()"
   ]
  },
  {
   "cell_type": "code",
   "execution_count": 99,
   "id": "290c4f81",
   "metadata": {},
   "outputs": [],
   "source": [
    "df = df.drop_duplicates()"
   ]
  },
  {
   "cell_type": "code",
   "execution_count": 100,
   "id": "f34bd9e9",
   "metadata": {},
   "outputs": [
    {
     "data": {
      "text/plain": [
       "(12374792, 39)"
      ]
     },
     "execution_count": 100,
     "metadata": {},
     "output_type": "execute_result"
    }
   ],
   "source": [
    "df.shape"
   ]
  },
  {
   "cell_type": "markdown",
   "id": "36e2bf5f",
   "metadata": {},
   "source": [
    "# 3. Hypothesis"
   ]
  },
  {
   "cell_type": "markdown",
   "id": "e7d2c0ad",
   "metadata": {},
   "source": [
    "## \"There is a direct correlation between the product's weight and the freight value.\"\n",
    "### This suggests that as the weight of a product increases, the cost of its shipping is likely to rise as well. \n",
    "### This relationship will be explored and verified through linear regression analysis."
   ]
  },
  {
   "cell_type": "markdown",
   "id": "b6975a0c",
   "metadata": {},
   "source": [
    "# 4. Data Prep for Regression Analysis"
   ]
  },
  {
   "cell_type": "code",
   "execution_count": 101,
   "id": "b64c74ea",
   "metadata": {},
   "outputs": [],
   "source": [
    "# Selecting a subset of the DataFrame\n",
    "df_subset = df[['product_weight_g', 'freight_value']].dropna()\n",
    "\n",
    "# Assigning X (independent variables) and y (dependent variable)\n",
    "X = df_subset[['product_weight_g']]  # Feature\n",
    "y = df_subset['freight_value']       # Target"
   ]
  },
  {
   "cell_type": "code",
   "execution_count": 102,
   "id": "7267ac6a",
   "metadata": {},
   "outputs": [
    {
     "data": {
      "text/html": [
       "<div>\n",
       "<style scoped>\n",
       "    .dataframe tbody tr th:only-of-type {\n",
       "        vertical-align: middle;\n",
       "    }\n",
       "\n",
       "    .dataframe tbody tr th {\n",
       "        vertical-align: top;\n",
       "    }\n",
       "\n",
       "    .dataframe thead th {\n",
       "        text-align: right;\n",
       "    }\n",
       "</style>\n",
       "<table border=\"1\" class=\"dataframe\">\n",
       "  <thead>\n",
       "    <tr style=\"text-align: right;\">\n",
       "      <th></th>\n",
       "      <th>product_weight_g</th>\n",
       "      <th>freight_value</th>\n",
       "    </tr>\n",
       "  </thead>\n",
       "  <tbody>\n",
       "    <tr>\n",
       "      <th>0</th>\n",
       "      <td>500.0</td>\n",
       "      <td>8.72</td>\n",
       "    </tr>\n",
       "    <tr>\n",
       "      <th>1</th>\n",
       "      <td>500.0</td>\n",
       "      <td>8.72</td>\n",
       "    </tr>\n",
       "    <tr>\n",
       "      <th>2</th>\n",
       "      <td>500.0</td>\n",
       "      <td>8.72</td>\n",
       "    </tr>\n",
       "    <tr>\n",
       "      <th>3</th>\n",
       "      <td>500.0</td>\n",
       "      <td>8.72</td>\n",
       "    </tr>\n",
       "    <tr>\n",
       "      <th>4</th>\n",
       "      <td>500.0</td>\n",
       "      <td>8.72</td>\n",
       "    </tr>\n",
       "    <tr>\n",
       "      <th>...</th>\n",
       "      <td>...</td>\n",
       "      <td>...</td>\n",
       "    </tr>\n",
       "    <tr>\n",
       "      <th>18079635</th>\n",
       "      <td>150.0</td>\n",
       "      <td>18.36</td>\n",
       "    </tr>\n",
       "    <tr>\n",
       "      <th>18079636</th>\n",
       "      <td>150.0</td>\n",
       "      <td>18.36</td>\n",
       "    </tr>\n",
       "    <tr>\n",
       "      <th>18079637</th>\n",
       "      <td>150.0</td>\n",
       "      <td>18.36</td>\n",
       "    </tr>\n",
       "    <tr>\n",
       "      <th>18079639</th>\n",
       "      <td>150.0</td>\n",
       "      <td>18.36</td>\n",
       "    </tr>\n",
       "    <tr>\n",
       "      <th>18079640</th>\n",
       "      <td>150.0</td>\n",
       "      <td>18.36</td>\n",
       "    </tr>\n",
       "  </tbody>\n",
       "</table>\n",
       "<p>12286897 rows × 2 columns</p>\n",
       "</div>"
      ],
      "text/plain": [
       "          product_weight_g  freight_value\n",
       "0                    500.0           8.72\n",
       "1                    500.0           8.72\n",
       "2                    500.0           8.72\n",
       "3                    500.0           8.72\n",
       "4                    500.0           8.72\n",
       "...                    ...            ...\n",
       "18079635             150.0          18.36\n",
       "18079636             150.0          18.36\n",
       "18079637             150.0          18.36\n",
       "18079639             150.0          18.36\n",
       "18079640             150.0          18.36\n",
       "\n",
       "[12286897 rows x 2 columns]"
      ]
     },
     "execution_count": 102,
     "metadata": {},
     "output_type": "execute_result"
    }
   ],
   "source": [
    "df_subset"
   ]
  },
  {
   "cell_type": "code",
   "execution_count": 103,
   "id": "29a4789d",
   "metadata": {},
   "outputs": [
    {
     "name": "stdout",
     "output_type": "stream",
     "text": [
      "       product_weight_g  freight_value\n",
      "count      1.228690e+07   1.228690e+07\n",
      "mean       2.157044e+03   1.974055e+01\n",
      "std        3.836287e+03   1.500347e+01\n",
      "min        0.000000e+00   0.000000e+00\n",
      "25%        3.000000e+02   1.351000e+01\n",
      "50%        7.000000e+02   1.632000e+01\n",
      "75%        1.850000e+03   2.068000e+01\n",
      "max        4.042500e+04   4.096800e+02\n"
     ]
    }
   ],
   "source": [
    "# Consistency Checks\n",
    "print(df_subset.describe())  "
   ]
  },
  {
   "cell_type": "code",
   "execution_count": 104,
   "id": "4c8b5ce4",
   "metadata": {},
   "outputs": [
    {
     "name": "stdout",
     "output_type": "stream",
     "text": [
      "product_weight_g    0\n",
      "freight_value       0\n",
      "dtype: int64\n"
     ]
    }
   ],
   "source": [
    "# Missing Values\n",
    "print(df_subset.isnull().sum()) "
   ]
  },
  {
   "cell_type": "code",
   "execution_count": 105,
   "id": "21ced9d7",
   "metadata": {},
   "outputs": [
    {
     "data": {
      "text/plain": [
       "19.740554603005116"
      ]
     },
     "execution_count": 105,
     "metadata": {},
     "output_type": "execute_result"
    }
   ],
   "source": [
    "# Checking the mean\n",
    "df_subset['freight_value'].mean()"
   ]
  },
  {
   "cell_type": "code",
   "execution_count": 106,
   "id": "da01bb45",
   "metadata": {},
   "outputs": [
    {
     "data": {
      "text/plain": [
       "16.32"
      ]
     },
     "execution_count": 106,
     "metadata": {},
     "output_type": "execute_result"
    }
   ],
   "source": [
    "# Checking the median\n",
    "df_subset['freight_value'].median()"
   ]
  },
  {
   "cell_type": "code",
   "execution_count": 107,
   "id": "730a29a0",
   "metadata": {},
   "outputs": [
    {
     "data": {
      "text/plain": [
       "409.68"
      ]
     },
     "execution_count": 107,
     "metadata": {},
     "output_type": "execute_result"
    }
   ],
   "source": [
    "# Finding the highest freight charge in the dataset\n",
    "df_subset['freight_value'].max() "
   ]
  },
  {
   "cell_type": "code",
   "execution_count": 108,
   "id": "b8a7a7fa",
   "metadata": {},
   "outputs": [
    {
     "data": {
      "image/png": "[encoded data removed]",
      "text/plain": [
       "<Figure size 640x480 with 1 Axes>"
      ]
     },
     "metadata": {},
     "output_type": "display_data"
    }
   ],
   "source": [
    "# Creating a scatterplot to see how the variables plot against each-other\n",
    "\n",
    "df_subset.plot(x = 'product_weight_g', y='freight_value',style='o') \n",
    "plt.title('Product Weight & Freight Cost Relationship')  \n",
    "plt.ylabel('freight_value') \n",
    "plt.xlabel('product_weight_g')  \n",
    "plt.show()"
   ]
  },
  {
   "cell_type": "code",
   "execution_count": 109,
   "id": "8e8480f8",
   "metadata": {},
   "outputs": [],
   "source": [
    "# Handling any potential missing values in the DataFrame\n",
    "subset_cleaned = df_subset.dropna(subset=['product_weight_g', 'freight_value'])\n",
    "\n",
    "# Extract the variables as NumPy arrays and reshape them\n",
    "X = subset_cleaned['product_weight_g'].to_numpy().reshape(-1, 1)\n",
    "y = subset_cleaned['freight_value'].to_numpy().reshape(-1, 1)"
   ]
  },
  {
   "cell_type": "code",
   "execution_count": 110,
   "id": "dfef2b54",
   "metadata": {},
   "outputs": [
    {
     "data": {
      "text/plain": [
       "array([[500.],\n",
       "       [500.],\n",
       "       [500.],\n",
       "       ...,\n",
       "       [150.],\n",
       "       [150.],\n",
       "       [150.]])"
      ]
     },
     "execution_count": 110,
     "metadata": {},
     "output_type": "execute_result"
    }
   ],
   "source": [
    "X"
   ]
  },
  {
   "cell_type": "code",
   "execution_count": 111,
   "id": "15fc3488",
   "metadata": {},
   "outputs": [
    {
     "data": {
      "text/plain": [
       "array([[ 8.72],\n",
       "       [ 8.72],\n",
       "       [ 8.72],\n",
       "       ...,\n",
       "       [18.36],\n",
       "       [18.36],\n",
       "       [18.36]])"
      ]
     },
     "execution_count": 111,
     "metadata": {},
     "output_type": "execute_result"
    }
   ],
   "source": [
    "y"
   ]
  },
  {
   "cell_type": "code",
   "execution_count": 112,
   "id": "6ea63b1e",
   "metadata": {},
   "outputs": [],
   "source": [
    "# Splitting data into a training set and a test set\n",
    "X_train, X_test, y_train, y_test = train_test_split(X, y, test_size=0.3, random_state=0)"
   ]
  },
  {
   "cell_type": "markdown",
   "id": "4c5cfc30",
   "metadata": {},
   "source": [
    "# 5. Regression Analysis"
   ]
  },
  {
   "cell_type": "code",
   "execution_count": 113,
   "id": "3479ab78",
   "metadata": {},
   "outputs": [],
   "source": [
    "# Creating a regression object\n",
    "regression = LinearRegression() "
   ]
  },
  {
   "cell_type": "code",
   "execution_count": 114,
   "id": "b25a5271",
   "metadata": {},
   "outputs": [
    {
     "data": {
      "text/html": [
       "<style>#sk-container-id-3 {color: black;background-color: white;}#sk-container-id-3 pre{padding: 0;}#sk-container-id-3 div.sk-toggleable {background-color: white;}#sk-container-id-3 label.sk-toggleable__label {cursor: pointer;display: block;width: 100%;margin-bottom: 0;padding: 0.3em;box-sizing: border-box;text-align: center;}#sk-container-id-3 label.sk-toggleable__label-arrow:before {content: \"▸\";float: left;margin-right: 0.25em;color: #696969;}#sk-container-id-3 label.sk-toggleable__label-arrow:hover:before {color: black;}#sk-container-id-3 div.sk-estimator:hover label.sk-toggleable__label-arrow:before {color: black;}#sk-container-id-3 div.sk-toggleable__content {max-height: 0;max-width: 0;overflow: hidden;text-align: left;background-color: #f0f8ff;}#sk-container-id-3 div.sk-toggleable__content pre {margin: 0.2em;color: black;border-radius: 0.25em;background-color: #f0f8ff;}#sk-container-id-3 input.sk-toggleable__control:checked~div.sk-toggleable__content {max-height: 200px;max-width: 100%;overflow: auto;}#sk-container-id-3 input.sk-toggleable__control:checked~label.sk-toggleable__label-arrow:before {content: \"▾\";}#sk-container-id-3 div.sk-estimator input.sk-toggleable__control:checked~label.sk-toggleable__label {background-color: #d4ebff;}#sk-container-id-3 div.sk-label input.sk-toggleable__control:checked~label.sk-toggleable__label {background-color: #d4ebff;}#sk-container-id-3 input.sk-hidden--visually {border: 0;clip: rect(1px 1px 1px 1px);clip: rect(1px, 1px, 1px, 1px);height: 1px;margin: -1px;overflow: hidden;padding: 0;position: absolute;width: 1px;}#sk-container-id-3 div.sk-estimator {font-family: monospace;background-color: #f0f8ff;border: 1px dotted black;border-radius: 0.25em;box-sizing: border-box;margin-bottom: 0.5em;}#sk-container-id-3 div.sk-estimator:hover {background-color: #d4ebff;}#sk-container-id-3 div.sk-parallel-item::after {content: \"\";width: 100%;border-bottom: 1px solid gray;flex-grow: 1;}#sk-container-id-3 div.sk-label:hover label.sk-toggleable__label {background-color: #d4ebff;}#sk-container-id-3 div.sk-serial::before {content: \"\";position: absolute;border-left: 1px solid gray;box-sizing: border-box;top: 0;bottom: 0;left: 50%;z-index: 0;}#sk-container-id-3 div.sk-serial {display: flex;flex-direction: column;align-items: center;background-color: white;padding-right: 0.2em;padding-left: 0.2em;position: relative;}#sk-container-id-3 div.sk-item {position: relative;z-index: 1;}#sk-container-id-3 div.sk-parallel {display: flex;align-items: stretch;justify-content: center;background-color: white;position: relative;}#sk-container-id-3 div.sk-item::before, #sk-container-id-3 div.sk-parallel-item::before {content: \"\";position: absolute;border-left: 1px solid gray;box-sizing: border-box;top: 0;bottom: 0;left: 50%;z-index: -1;}#sk-container-id-3 div.sk-parallel-item {display: flex;flex-direction: column;z-index: 1;position: relative;background-color: white;}#sk-container-id-3 div.sk-parallel-item:first-child::after {align-self: flex-end;width: 50%;}#sk-container-id-3 div.sk-parallel-item:last-child::after {align-self: flex-start;width: 50%;}#sk-container-id-3 div.sk-parallel-item:only-child::after {width: 0;}#sk-container-id-3 div.sk-dashed-wrapped {border: 1px dashed gray;margin: 0 0.4em 0.5em 0.4em;box-sizing: border-box;padding-bottom: 0.4em;background-color: white;}#sk-container-id-3 div.sk-label label {font-family: monospace;font-weight: bold;display: inline-block;line-height: 1.2em;}#sk-container-id-3 div.sk-label-container {text-align: center;}#sk-container-id-3 div.sk-container {/* jupyter's `normalize.less` sets `[hidden] { display: none; }` but bootstrap.min.css set `[hidden] { display: none !important; }` so we also need the `!important` here to be able to override the default hidden behavior on the sphinx rendered scikit-learn.org. See: https://github.com/scikit-learn/scikit-learn/issues/21755 */display: inline-block !important;position: relative;}#sk-container-id-3 div.sk-text-repr-fallback {display: none;}</style><div id=\"sk-container-id-3\" class=\"sk-top-container\"><div class=\"sk-text-repr-fallback\"><pre>LinearRegression()</pre><b>In a Jupyter environment, please rerun this cell to show the HTML representation or trust the notebook. <br />On GitHub, the HTML representation is unable to render, please try loading this page with nbviewer.org.</b></div><div class=\"sk-container\" hidden><div class=\"sk-item\"><div class=\"sk-estimator sk-toggleable\"><input class=\"sk-toggleable__control sk-hidden--visually\" id=\"sk-estimator-id-3\" type=\"checkbox\" checked><label for=\"sk-estimator-id-3\" class=\"sk-toggleable__label sk-toggleable__label-arrow\">LinearRegression</label><div class=\"sk-toggleable__content\"><pre>LinearRegression()</pre></div></div></div></div></div>"
      ],
      "text/plain": [
       "LinearRegression()"
      ]
     },
     "execution_count": 114,
     "metadata": {},
     "output_type": "execute_result"
    }
   ],
   "source": [
    "# Fitting the regression object onto the training set\n",
    "regression.fit(X_train, y_train)"
   ]
  },
  {
   "cell_type": "code",
   "execution_count": 115,
   "id": "14ae34e1",
   "metadata": {},
   "outputs": [],
   "source": [
    "# Predicting the values of y using x\n",
    "y_predicted = regression.predict(X_test)"
   ]
  },
  {
   "cell_type": "code",
   "execution_count": 116,
   "id": "830b589e",
   "metadata": {},
   "outputs": [
    {
     "data": {
      "image/png": "[encoded data removed]",
      "text/plain": [
       "<Figure size 640x480 with 1 Axes>"
      ]
     },
     "metadata": {},
     "output_type": "display_data"
    }
   ],
   "source": [
    "# Creating a plot that shows the regression line from the model on the test set.\n",
    "\n",
    "plot_test = plt\n",
    "plot_test.scatter(X_test, y_test, color='gray', s = 15)\n",
    "plot_test.plot(X_test, y_predicted, color='red', linewidth =3)\n",
    "plot_test.title('Product Weight & Freight Cost Relationship (Test set)')\n",
    "plot_test.xlabel('product_weight_g')\n",
    "plot_test.ylabel('freight_value')\n",
    "plot_test.show()"
   ]
  },
  {
   "cell_type": "code",
   "execution_count": 117,
   "id": "e6419647",
   "metadata": {},
   "outputs": [],
   "source": [
    "# Creating objects that contain the model summary statistics\n",
    "rmse = mean_squared_error(y_test, y_predicted) \n",
    "r2 = r2_score(y_test, y_predicted)"
   ]
  },
  {
   "cell_type": "code",
   "execution_count": 118,
   "id": "a5d225a5",
   "metadata": {},
   "outputs": [
    {
     "name": "stdout",
     "output_type": "stream",
     "text": [
      "Slope: [[0.00248281]]\n",
      "Mean squared error:  134.09947275321002\n",
      "R2 score:  0.40111453149647636\n"
     ]
    }
   ],
   "source": [
    "# Printing the model summary statistics\n",
    "print('Slope:' ,regression.coef_)\n",
    "print('Mean squared error: ', rmse)\n",
    "print('R2 score: ', r2)"
   ]
  },
  {
   "cell_type": "code",
   "execution_count": 119,
   "id": "d4f9a391",
   "metadata": {},
   "outputs": [
    {
     "data": {
      "text/plain": [
       "array([[15.13444594],\n",
       "       [39.09352505],\n",
       "       [18.94803615],\n",
       "       ...,\n",
       "       [15.57638543],\n",
       "       [31.39682606],\n",
       "       [26.1829332 ]])"
      ]
     },
     "execution_count": 119,
     "metadata": {},
     "output_type": "execute_result"
    }
   ],
   "source": [
    "y_predicted"
   ]
  },
  {
   "cell_type": "code",
   "execution_count": 120,
   "id": "854b66f2",
   "metadata": {},
   "outputs": [
    {
     "data": {
      "text/html": [
       "<div>\n",
       "<style scoped>\n",
       "    .dataframe tbody tr th:only-of-type {\n",
       "        vertical-align: middle;\n",
       "    }\n",
       "\n",
       "    .dataframe tbody tr th {\n",
       "        vertical-align: top;\n",
       "    }\n",
       "\n",
       "    .dataframe thead th {\n",
       "        text-align: right;\n",
       "    }\n",
       "</style>\n",
       "<table border=\"1\" class=\"dataframe\">\n",
       "  <thead>\n",
       "    <tr style=\"text-align: right;\">\n",
       "      <th></th>\n",
       "      <th>Actual</th>\n",
       "      <th>Predicted</th>\n",
       "    </tr>\n",
       "  </thead>\n",
       "  <tbody>\n",
       "    <tr>\n",
       "      <th>0</th>\n",
       "      <td>15.40</td>\n",
       "      <td>15.134446</td>\n",
       "    </tr>\n",
       "    <tr>\n",
       "      <th>1</th>\n",
       "      <td>25.74</td>\n",
       "      <td>39.093525</td>\n",
       "    </tr>\n",
       "    <tr>\n",
       "      <th>2</th>\n",
       "      <td>21.05</td>\n",
       "      <td>18.948036</td>\n",
       "    </tr>\n",
       "    <tr>\n",
       "      <th>3</th>\n",
       "      <td>11.85</td>\n",
       "      <td>15.631007</td>\n",
       "    </tr>\n",
       "    <tr>\n",
       "      <th>4</th>\n",
       "      <td>18.67</td>\n",
       "      <td>15.208930</td>\n",
       "    </tr>\n",
       "    <tr>\n",
       "      <th>5</th>\n",
       "      <td>18.16</td>\n",
       "      <td>18.362094</td>\n",
       "    </tr>\n",
       "    <tr>\n",
       "      <th>6</th>\n",
       "      <td>13.07</td>\n",
       "      <td>16.574473</td>\n",
       "    </tr>\n",
       "    <tr>\n",
       "      <th>7</th>\n",
       "      <td>7.39</td>\n",
       "      <td>15.042582</td>\n",
       "    </tr>\n",
       "    <tr>\n",
       "      <th>8</th>\n",
       "      <td>15.38</td>\n",
       "      <td>15.010306</td>\n",
       "    </tr>\n",
       "    <tr>\n",
       "      <th>9</th>\n",
       "      <td>19.80</td>\n",
       "      <td>34.624474</td>\n",
       "    </tr>\n",
       "    <tr>\n",
       "      <th>10</th>\n",
       "      <td>17.60</td>\n",
       "      <td>16.872410</td>\n",
       "    </tr>\n",
       "    <tr>\n",
       "      <th>11</th>\n",
       "      <td>16.16</td>\n",
       "      <td>16.562059</td>\n",
       "    </tr>\n",
       "    <tr>\n",
       "      <th>12</th>\n",
       "      <td>12.88</td>\n",
       "      <td>15.010306</td>\n",
       "    </tr>\n",
       "    <tr>\n",
       "      <th>13</th>\n",
       "      <td>22.51</td>\n",
       "      <td>33.258931</td>\n",
       "    </tr>\n",
       "    <tr>\n",
       "      <th>14</th>\n",
       "      <td>15.10</td>\n",
       "      <td>15.258586</td>\n",
       "    </tr>\n",
       "    <tr>\n",
       "      <th>15</th>\n",
       "      <td>14.10</td>\n",
       "      <td>14.762025</td>\n",
       "    </tr>\n",
       "    <tr>\n",
       "      <th>16</th>\n",
       "      <td>16.81</td>\n",
       "      <td>15.673215</td>\n",
       "    </tr>\n",
       "    <tr>\n",
       "      <th>17</th>\n",
       "      <td>19.93</td>\n",
       "      <td>16.748270</td>\n",
       "    </tr>\n",
       "    <tr>\n",
       "      <th>18</th>\n",
       "      <td>9.26</td>\n",
       "      <td>15.879288</td>\n",
       "    </tr>\n",
       "    <tr>\n",
       "      <th>19</th>\n",
       "      <td>28.75</td>\n",
       "      <td>18.734515</td>\n",
       "    </tr>\n",
       "    <tr>\n",
       "      <th>20</th>\n",
       "      <td>21.75</td>\n",
       "      <td>26.058793</td>\n",
       "    </tr>\n",
       "    <tr>\n",
       "      <th>21</th>\n",
       "      <td>18.23</td>\n",
       "      <td>14.637885</td>\n",
       "    </tr>\n",
       "    <tr>\n",
       "      <th>22</th>\n",
       "      <td>8.88</td>\n",
       "      <td>16.127568</td>\n",
       "    </tr>\n",
       "    <tr>\n",
       "      <th>23</th>\n",
       "      <td>32.74</td>\n",
       "      <td>20.844900</td>\n",
       "    </tr>\n",
       "    <tr>\n",
       "      <th>24</th>\n",
       "      <td>14.52</td>\n",
       "      <td>15.134446</td>\n",
       "    </tr>\n",
       "    <tr>\n",
       "      <th>25</th>\n",
       "      <td>11.85</td>\n",
       "      <td>15.506867</td>\n",
       "    </tr>\n",
       "    <tr>\n",
       "      <th>26</th>\n",
       "      <td>18.47</td>\n",
       "      <td>30.279563</td>\n",
       "    </tr>\n",
       "    <tr>\n",
       "      <th>27</th>\n",
       "      <td>16.42</td>\n",
       "      <td>18.486234</td>\n",
       "    </tr>\n",
       "    <tr>\n",
       "      <th>28</th>\n",
       "      <td>14.63</td>\n",
       "      <td>17.560148</td>\n",
       "    </tr>\n",
       "    <tr>\n",
       "      <th>29</th>\n",
       "      <td>41.43</td>\n",
       "      <td>58.086992</td>\n",
       "    </tr>\n",
       "  </tbody>\n",
       "</table>\n",
       "</div>"
      ],
      "text/plain": [
       "    Actual  Predicted\n",
       "0    15.40  15.134446\n",
       "1    25.74  39.093525\n",
       "2    21.05  18.948036\n",
       "3    11.85  15.631007\n",
       "4    18.67  15.208930\n",
       "5    18.16  18.362094\n",
       "6    13.07  16.574473\n",
       "7     7.39  15.042582\n",
       "8    15.38  15.010306\n",
       "9    19.80  34.624474\n",
       "10   17.60  16.872410\n",
       "11   16.16  16.562059\n",
       "12   12.88  15.010306\n",
       "13   22.51  33.258931\n",
       "14   15.10  15.258586\n",
       "15   14.10  14.762025\n",
       "16   16.81  15.673215\n",
       "17   19.93  16.748270\n",
       "18    9.26  15.879288\n",
       "19   28.75  18.734515\n",
       "20   21.75  26.058793\n",
       "21   18.23  14.637885\n",
       "22    8.88  16.127568\n",
       "23   32.74  20.844900\n",
       "24   14.52  15.134446\n",
       "25   11.85  15.506867\n",
       "26   18.47  30.279563\n",
       "27   16.42  18.486234\n",
       "28   14.63  17.560148\n",
       "29   41.43  58.086992"
      ]
     },
     "execution_count": 120,
     "metadata": {},
     "output_type": "execute_result"
    }
   ],
   "source": [
    "# Creating a dataframe comparing the actual and predicted values of y\n",
    "data = pd.DataFrame({'Actual': y_test.flatten(), 'Predicted': y_predicted.flatten()})\n",
    "data.head(30)"
   ]
  },
  {
   "cell_type": "markdown",
   "id": "e21e78f1",
   "metadata": {},
   "source": [
    "# 6. Comparing how the regression fits the training set"
   ]
  },
  {
   "cell_type": "code",
   "execution_count": 121,
   "id": "275c9db2",
   "metadata": {},
   "outputs": [],
   "source": [
    "# Predict\n",
    "y_predicted_train = regression.predict(X_train)"
   ]
  },
  {
   "cell_type": "code",
   "execution_count": 122,
   "id": "2eac7aa3",
   "metadata": {},
   "outputs": [],
   "source": [
    "rmse = mean_squared_error(y_train, y_predicted_train)\n",
    "r2 = r2_score(y_train, y_predicted_train)"
   ]
  },
  {
   "cell_type": "code",
   "execution_count": 123,
   "id": "761d8564",
   "metadata": {},
   "outputs": [
    {
     "name": "stdout",
     "output_type": "stream",
     "text": [
      "Slope: [[0.00248281]]\n",
      "Mean squared error:  134.8666726508994\n",
      "R2 score:  0.4022226874839637\n"
     ]
    }
   ],
   "source": [
    "print('Slope:' ,regression.coef_)\n",
    "print('Mean squared error: ', rmse)\n",
    "print('R2 score: ', r2)"
   ]
  },
  {
   "cell_type": "code",
   "execution_count": 124,
   "id": "0624d0cb",
   "metadata": {},
   "outputs": [
    {
     "data": {
      "image/png": "[encoded data removed]",
      "text/plain": [
       "<Figure size 640x480 with 1 Axes>"
      ]
     },
     "metadata": {},
     "output_type": "display_data"
    }
   ],
   "source": [
    "# Visualizing the training set results\n",
    "plot_test = plt\n",
    "plot_test.scatter(X_train, y_train, color='green', s = 15, label='Actual Values')\n",
    "plot_test.plot(X_train, y_predicted_train, color='red', linewidth =3, label='Regression Line')\n",
    "plot_test.title('Relationship between Product Weight and Freight Cost Relationship (Train set)')\n",
    "plot_test.xlabel('Product Weight (g)')\n",
    "plot_test.ylabel('Freight Cost')\n",
    "plot_test.legend()\n",
    "plot_test.show()"
   ]
  },
  {
   "cell_type": "markdown",
   "id": "06820fc6",
   "metadata": {},
   "source": [
    "# 7. Interpretation of how well the line appears to fit the data"
   ]
  },
  {
   "cell_type": "markdown",
   "id": "4c454411",
   "metadata": {},
   "source": [
    "### The slope of the regression line, at approximately 0.0025, indicates a positive but relatively gentle upward trend. This implies that while there is a noticeable increase in freight cost with increasing product weight, the rate of this increase is modest. The slope alone, however, doesn't provide a complete picture of the fit."
   ]
  },
  {
   "cell_type": "markdown",
   "id": "09d17a97",
   "metadata": {},
   "source": [
    "# 8. Model performance statistics—MSE and R2 score"
   ]
  },
  {
   "cell_type": "markdown",
   "id": "06e474f6",
   "metadata": {},
   "source": [
    "## Mean Squared Error (MSE): \n",
    "### The MSE value, while high, needs to be contextualized within the large dataset. It suggests that the model's predictions are not extremely close to the actual values, which might be due to the complexity and variability within the data."
   ]
  },
  {
   "cell_type": "markdown",
   "id": "03e1d4fd",
   "metadata": {},
   "source": [
    "## R2 Score: \n",
    "### An R2 score of 0.40 indicates that the model explains 40% of the variance in freight costs, which is significant but also implies that 60% of the variance is due to other factors not captured by the model."
   ]
  },
  {
   "cell_type": "markdown",
   "id": "8a56bcca",
   "metadata": {},
   "source": [
    "# 9. How well the model performed on the test set"
   ]
  },
  {
   "cell_type": "markdown",
   "id": "36efaeae",
   "metadata": {},
   "source": [
    "### The model's performance, as indicated by the MSE and R2 score, suggests it has moderate predictive accuracy. It is effective to a certain extent in forecasting freight costs based on product weight, but there is significant room for improvement."
   ]
  },
  {
   "cell_type": "markdown",
   "id": "af8b3f5f",
   "metadata": {},
   "source": [
    "### The presence of a large MSE in a dataset with millions of rows hints at the possibility of high variability or noise in the data, which could be due to unaccounted variables or inherent complexities in the data."
   ]
  },
  {
   "cell_type": "markdown",
   "id": "5af2b1eb",
   "metadata": {},
   "source": [
    "### The fact that the R2 score is 0.40 implies that while product weight is a significant factor in determining freight costs, it is not the only one. This suggests that other variables, possibly related to logistics, product type, or geographic factors, might also play a crucial role."
   ]
  },
  {
   "cell_type": "markdown",
   "id": "3b0ac4e2",
   "metadata": {},
   "source": [
    "## Data Bias Impact: \n",
    "### If the dataset is biased or not representative of the wider population (e.g., if it overrepresents certain types of products or shipping routes), the model's predictions could be skewed. This would limit the generalizability of the findings."
   ]
  }
 ],
 "metadata": {
  "kernelspec": {
   "display_name": "Python 3 (ipykernel)",
   "language": "python",
   "name": "python3"
  },
  "language_info": {
   "codemirror_mode": {
    "name": "ipython",
    "version": 3
   },
   "file_extension": ".py",
   "mimetype": "text/x-python",
   "name": "python",
   "nbconvert_exporter": "python",
   "pygments_lexer": "ipython3",
   "version": "3.10.9"
  }
 },
 "nbformat": 4,
 "nbformat_minor": 5
}
